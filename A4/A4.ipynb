{
 "cells": [
  {
   "cell_type": "markdown",
   "metadata": {},
   "source": [
    "# TASK 0"
   ]
  },
  {
   "cell_type": "code",
   "execution_count": 360,
   "metadata": {},
   "outputs": [],
   "source": [
    "import pandas as pd\n",
    "import numpy as np\n",
    "import matplotlib.pyplot as plt"
   ]
  },
  {
   "cell_type": "code",
   "execution_count": 361,
   "metadata": {},
   "outputs": [
    {
     "data": {
      "text/html": [
       "<div>\n",
       "<style scoped>\n",
       "    .dataframe tbody tr th:only-of-type {\n",
       "        vertical-align: middle;\n",
       "    }\n",
       "\n",
       "    .dataframe tbody tr th {\n",
       "        vertical-align: top;\n",
       "    }\n",
       "\n",
       "    .dataframe thead th {\n",
       "        text-align: right;\n",
       "    }\n",
       "</style>\n",
       "<table border=\"1\" class=\"dataframe\">\n",
       "  <thead>\n",
       "    <tr style=\"text-align: right;\">\n",
       "      <th></th>\n",
       "      <th>id</th>\n",
       "      <th>diagnosis</th>\n",
       "      <th>LARGE_area</th>\n",
       "      <th>LARGE_compactness</th>\n",
       "      <th>LARGE_concave_points</th>\n",
       "      <th>LARGE_concavity</th>\n",
       "      <th>LARGE_fractal_dimension</th>\n",
       "      <th>LARGE_perimeter</th>\n",
       "      <th>LARGE_radius</th>\n",
       "      <th>LARGE_smoothness</th>\n",
       "      <th>...</th>\n",
       "      <th>concave_points</th>\n",
       "      <th>concavity</th>\n",
       "      <th>fractal_dimension</th>\n",
       "      <th>perimeter</th>\n",
       "      <th>radius</th>\n",
       "      <th>alpha_scale</th>\n",
       "      <th>smoothness</th>\n",
       "      <th>symmetry</th>\n",
       "      <th>texture</th>\n",
       "      <th>beta_scale</th>\n",
       "    </tr>\n",
       "  </thead>\n",
       "  <tbody>\n",
       "    <tr>\n",
       "      <th>0</th>\n",
       "      <td>842302.0</td>\n",
       "      <td>M</td>\n",
       "      <td>2019.0</td>\n",
       "      <td>0.6656</td>\n",
       "      <td>0.2654</td>\n",
       "      <td>0.7119</td>\n",
       "      <td>0.11890</td>\n",
       "      <td>184.60</td>\n",
       "      <td>25.38</td>\n",
       "      <td>0.1622</td>\n",
       "      <td>...</td>\n",
       "      <td>0.14710</td>\n",
       "      <td>0.3001</td>\n",
       "      <td>0.07871</td>\n",
       "      <td>122.80</td>\n",
       "      <td>17.99</td>\n",
       "      <td>5533.419816</td>\n",
       "      <td>0.11840</td>\n",
       "      <td>0.2419</td>\n",
       "      <td>10.38</td>\n",
       "      <td>-16038.934558</td>\n",
       "    </tr>\n",
       "    <tr>\n",
       "      <th>1</th>\n",
       "      <td>842517.0</td>\n",
       "      <td>M</td>\n",
       "      <td>1956.0</td>\n",
       "      <td>0.1866</td>\n",
       "      <td>0.1860</td>\n",
       "      <td>0.2416</td>\n",
       "      <td>0.08902</td>\n",
       "      <td>158.80</td>\n",
       "      <td>24.99</td>\n",
       "      <td>0.1238</td>\n",
       "      <td>...</td>\n",
       "      <td>0.07017</td>\n",
       "      <td>0.0869</td>\n",
       "      <td>0.05667</td>\n",
       "      <td>132.90</td>\n",
       "      <td>20.57</td>\n",
       "      <td>456.771688</td>\n",
       "      <td>0.08474</td>\n",
       "      <td>0.1812</td>\n",
       "      <td>17.77</td>\n",
       "      <td>3213.443571</td>\n",
       "    </tr>\n",
       "    <tr>\n",
       "      <th>2</th>\n",
       "      <td>84300903.0</td>\n",
       "      <td>M</td>\n",
       "      <td>1709.0</td>\n",
       "      <td>0.4245</td>\n",
       "      <td>0.2430</td>\n",
       "      <td>0.4504</td>\n",
       "      <td>0.08758</td>\n",
       "      <td>152.50</td>\n",
       "      <td>23.57</td>\n",
       "      <td>0.1444</td>\n",
       "      <td>...</td>\n",
       "      <td>0.12790</td>\n",
       "      <td>0.1974</td>\n",
       "      <td>0.05999</td>\n",
       "      <td>130.00</td>\n",
       "      <td>19.69</td>\n",
       "      <td>3019.115378</td>\n",
       "      <td>0.10960</td>\n",
       "      <td>0.2069</td>\n",
       "      <td>21.25</td>\n",
       "      <td>-1102.110142</td>\n",
       "    </tr>\n",
       "    <tr>\n",
       "      <th>3</th>\n",
       "      <td>84348301.0</td>\n",
       "      <td>M</td>\n",
       "      <td>567.7</td>\n",
       "      <td>0.8663</td>\n",
       "      <td>0.2575</td>\n",
       "      <td>0.6869</td>\n",
       "      <td>0.17300</td>\n",
       "      <td>98.87</td>\n",
       "      <td>14.91</td>\n",
       "      <td>0.2098</td>\n",
       "      <td>...</td>\n",
       "      <td>0.10520</td>\n",
       "      <td>0.2414</td>\n",
       "      <td>0.09744</td>\n",
       "      <td>77.58</td>\n",
       "      <td>11.42</td>\n",
       "      <td>11923.601650</td>\n",
       "      <td>0.14250</td>\n",
       "      <td>0.2597</td>\n",
       "      <td>20.38</td>\n",
       "      <td>-789.415600</td>\n",
       "    </tr>\n",
       "    <tr>\n",
       "      <th>4</th>\n",
       "      <td>84358402.0</td>\n",
       "      <td>M</td>\n",
       "      <td>1575.0</td>\n",
       "      <td>0.2050</td>\n",
       "      <td>0.1625</td>\n",
       "      <td>0.4000</td>\n",
       "      <td>0.07678</td>\n",
       "      <td>152.20</td>\n",
       "      <td>22.54</td>\n",
       "      <td>0.1374</td>\n",
       "      <td>...</td>\n",
       "      <td>0.10430</td>\n",
       "      <td>0.1980</td>\n",
       "      <td>0.05883</td>\n",
       "      <td>135.10</td>\n",
       "      <td>20.29</td>\n",
       "      <td>5340.182994</td>\n",
       "      <td>0.10030</td>\n",
       "      <td>0.1809</td>\n",
       "      <td>14.34</td>\n",
       "      <td>12086.452028</td>\n",
       "    </tr>\n",
       "  </tbody>\n",
       "</table>\n",
       "<p>5 rows × 34 columns</p>\n",
       "</div>"
      ],
      "text/plain": [
       "           id diagnosis  LARGE_area  LARGE_compactness  LARGE_concave_points  \\\n",
       "0    842302.0         M      2019.0             0.6656                0.2654   \n",
       "1    842517.0         M      1956.0             0.1866                0.1860   \n",
       "2  84300903.0         M      1709.0             0.4245                0.2430   \n",
       "3  84348301.0         M       567.7             0.8663                0.2575   \n",
       "4  84358402.0         M      1575.0             0.2050                0.1625   \n",
       "\n",
       "   LARGE_concavity  LARGE_fractal_dimension  LARGE_perimeter  LARGE_radius  \\\n",
       "0           0.7119                  0.11890           184.60         25.38   \n",
       "1           0.2416                  0.08902           158.80         24.99   \n",
       "2           0.4504                  0.08758           152.50         23.57   \n",
       "3           0.6869                  0.17300            98.87         14.91   \n",
       "4           0.4000                  0.07678           152.20         22.54   \n",
       "\n",
       "   LARGE_smoothness  ...  concave_points  concavity  fractal_dimension  \\\n",
       "0            0.1622  ...         0.14710     0.3001            0.07871   \n",
       "1            0.1238  ...         0.07017     0.0869            0.05667   \n",
       "2            0.1444  ...         0.12790     0.1974            0.05999   \n",
       "3            0.2098  ...         0.10520     0.2414            0.09744   \n",
       "4            0.1374  ...         0.10430     0.1980            0.05883   \n",
       "\n",
       "   perimeter  radius   alpha_scale  smoothness  symmetry  texture  \\\n",
       "0     122.80   17.99   5533.419816     0.11840    0.2419    10.38   \n",
       "1     132.90   20.57    456.771688     0.08474    0.1812    17.77   \n",
       "2     130.00   19.69   3019.115378     0.10960    0.2069    21.25   \n",
       "3      77.58   11.42  11923.601650     0.14250    0.2597    20.38   \n",
       "4     135.10   20.29   5340.182994     0.10030    0.1809    14.34   \n",
       "\n",
       "     beta_scale  \n",
       "0 -16038.934558  \n",
       "1   3213.443571  \n",
       "2  -1102.110142  \n",
       "3   -789.415600  \n",
       "4  12086.452028  \n",
       "\n",
       "[5 rows x 34 columns]"
      ]
     },
     "metadata": {},
     "output_type": "display_data"
    },
    {
     "data": {
      "text/plain": [
       "(569, 34)"
      ]
     },
     "metadata": {},
     "output_type": "display_data"
    }
   ],
   "source": [
    "df = pd.read_csv('cancer.csv', sep=';')\n",
    "display(df.head())\n",
    "display(df.shape)"
   ]
  },
  {
   "cell_type": "code",
   "execution_count": 362,
   "metadata": {},
   "outputs": [
    {
     "data": {
      "text/html": [
       "<div>\n",
       "<style scoped>\n",
       "    .dataframe tbody tr th:only-of-type {\n",
       "        vertical-align: middle;\n",
       "    }\n",
       "\n",
       "    .dataframe tbody tr th {\n",
       "        vertical-align: top;\n",
       "    }\n",
       "\n",
       "    .dataframe thead th {\n",
       "        text-align: right;\n",
       "    }\n",
       "</style>\n",
       "<table border=\"1\" class=\"dataframe\">\n",
       "  <thead>\n",
       "    <tr style=\"text-align: right;\">\n",
       "      <th></th>\n",
       "      <th>LARGE_area</th>\n",
       "      <th>LARGE_compactness</th>\n",
       "      <th>LARGE_concave_points</th>\n",
       "      <th>LARGE_concavity</th>\n",
       "      <th>LARGE_fractal_dimension</th>\n",
       "      <th>LARGE_perimeter</th>\n",
       "      <th>LARGE_radius</th>\n",
       "      <th>LARGE_smoothness</th>\n",
       "      <th>LARGE_symmetry</th>\n",
       "      <th>LARGE_texture</th>\n",
       "      <th>...</th>\n",
       "      <th>concave_points</th>\n",
       "      <th>concavity</th>\n",
       "      <th>fractal_dimension</th>\n",
       "      <th>perimeter</th>\n",
       "      <th>radius</th>\n",
       "      <th>alpha_scale</th>\n",
       "      <th>smoothness</th>\n",
       "      <th>symmetry</th>\n",
       "      <th>texture</th>\n",
       "      <th>beta_scale</th>\n",
       "    </tr>\n",
       "  </thead>\n",
       "  <tbody>\n",
       "    <tr>\n",
       "      <th>0</th>\n",
       "      <td>2019.0</td>\n",
       "      <td>0.66560</td>\n",
       "      <td>0.2654</td>\n",
       "      <td>0.7119</td>\n",
       "      <td>0.11890</td>\n",
       "      <td>184.60</td>\n",
       "      <td>25.380</td>\n",
       "      <td>0.16220</td>\n",
       "      <td>0.4601</td>\n",
       "      <td>17.33</td>\n",
       "      <td>...</td>\n",
       "      <td>0.14710</td>\n",
       "      <td>0.30010</td>\n",
       "      <td>0.07871</td>\n",
       "      <td>122.80</td>\n",
       "      <td>17.99</td>\n",
       "      <td>5533.419816</td>\n",
       "      <td>0.11840</td>\n",
       "      <td>0.2419</td>\n",
       "      <td>10.38</td>\n",
       "      <td>-16038.934558</td>\n",
       "    </tr>\n",
       "    <tr>\n",
       "      <th>1</th>\n",
       "      <td>1956.0</td>\n",
       "      <td>0.18660</td>\n",
       "      <td>0.1860</td>\n",
       "      <td>0.2416</td>\n",
       "      <td>0.08902</td>\n",
       "      <td>158.80</td>\n",
       "      <td>24.990</td>\n",
       "      <td>0.12380</td>\n",
       "      <td>0.2750</td>\n",
       "      <td>23.41</td>\n",
       "      <td>...</td>\n",
       "      <td>0.07017</td>\n",
       "      <td>0.08690</td>\n",
       "      <td>0.05667</td>\n",
       "      <td>132.90</td>\n",
       "      <td>20.57</td>\n",
       "      <td>456.771688</td>\n",
       "      <td>0.08474</td>\n",
       "      <td>0.1812</td>\n",
       "      <td>17.77</td>\n",
       "      <td>3213.443571</td>\n",
       "    </tr>\n",
       "    <tr>\n",
       "      <th>2</th>\n",
       "      <td>1709.0</td>\n",
       "      <td>0.42450</td>\n",
       "      <td>0.2430</td>\n",
       "      <td>0.4504</td>\n",
       "      <td>0.08758</td>\n",
       "      <td>152.50</td>\n",
       "      <td>23.570</td>\n",
       "      <td>0.14440</td>\n",
       "      <td>0.3613</td>\n",
       "      <td>25.53</td>\n",
       "      <td>...</td>\n",
       "      <td>0.12790</td>\n",
       "      <td>0.19740</td>\n",
       "      <td>0.05999</td>\n",
       "      <td>130.00</td>\n",
       "      <td>19.69</td>\n",
       "      <td>3019.115378</td>\n",
       "      <td>0.10960</td>\n",
       "      <td>0.2069</td>\n",
       "      <td>21.25</td>\n",
       "      <td>-1102.110142</td>\n",
       "    </tr>\n",
       "    <tr>\n",
       "      <th>3</th>\n",
       "      <td>567.7</td>\n",
       "      <td>0.86630</td>\n",
       "      <td>0.2575</td>\n",
       "      <td>0.6869</td>\n",
       "      <td>0.17300</td>\n",
       "      <td>98.87</td>\n",
       "      <td>14.910</td>\n",
       "      <td>0.20980</td>\n",
       "      <td>0.6638</td>\n",
       "      <td>26.50</td>\n",
       "      <td>...</td>\n",
       "      <td>0.10520</td>\n",
       "      <td>0.24140</td>\n",
       "      <td>0.09744</td>\n",
       "      <td>77.58</td>\n",
       "      <td>11.42</td>\n",
       "      <td>11923.601650</td>\n",
       "      <td>0.14250</td>\n",
       "      <td>0.2597</td>\n",
       "      <td>20.38</td>\n",
       "      <td>-789.415600</td>\n",
       "    </tr>\n",
       "    <tr>\n",
       "      <th>4</th>\n",
       "      <td>1575.0</td>\n",
       "      <td>0.20500</td>\n",
       "      <td>0.1625</td>\n",
       "      <td>0.4000</td>\n",
       "      <td>0.07678</td>\n",
       "      <td>152.20</td>\n",
       "      <td>22.540</td>\n",
       "      <td>0.13740</td>\n",
       "      <td>0.2364</td>\n",
       "      <td>16.67</td>\n",
       "      <td>...</td>\n",
       "      <td>0.10430</td>\n",
       "      <td>0.19800</td>\n",
       "      <td>0.05883</td>\n",
       "      <td>135.10</td>\n",
       "      <td>20.29</td>\n",
       "      <td>5340.182994</td>\n",
       "      <td>0.10030</td>\n",
       "      <td>0.1809</td>\n",
       "      <td>14.34</td>\n",
       "      <td>12086.452028</td>\n",
       "    </tr>\n",
       "    <tr>\n",
       "      <th>...</th>\n",
       "      <td>...</td>\n",
       "      <td>...</td>\n",
       "      <td>...</td>\n",
       "      <td>...</td>\n",
       "      <td>...</td>\n",
       "      <td>...</td>\n",
       "      <td>...</td>\n",
       "      <td>...</td>\n",
       "      <td>...</td>\n",
       "      <td>...</td>\n",
       "      <td>...</td>\n",
       "      <td>...</td>\n",
       "      <td>...</td>\n",
       "      <td>...</td>\n",
       "      <td>...</td>\n",
       "      <td>...</td>\n",
       "      <td>...</td>\n",
       "      <td>...</td>\n",
       "      <td>...</td>\n",
       "      <td>...</td>\n",
       "      <td>...</td>\n",
       "    </tr>\n",
       "    <tr>\n",
       "      <th>564</th>\n",
       "      <td>2027.0</td>\n",
       "      <td>0.21130</td>\n",
       "      <td>0.2216</td>\n",
       "      <td>0.4107</td>\n",
       "      <td>0.07115</td>\n",
       "      <td>166.10</td>\n",
       "      <td>25.450</td>\n",
       "      <td>0.14100</td>\n",
       "      <td>0.2060</td>\n",
       "      <td>26.40</td>\n",
       "      <td>...</td>\n",
       "      <td>0.13890</td>\n",
       "      <td>0.24390</td>\n",
       "      <td>0.05623</td>\n",
       "      <td>142.00</td>\n",
       "      <td>21.56</td>\n",
       "      <td>-3444.296744</td>\n",
       "      <td>0.11100</td>\n",
       "      <td>0.1726</td>\n",
       "      <td>22.39</td>\n",
       "      <td>2783.246020</td>\n",
       "    </tr>\n",
       "    <tr>\n",
       "      <th>565</th>\n",
       "      <td>1731.0</td>\n",
       "      <td>0.19220</td>\n",
       "      <td>0.1628</td>\n",
       "      <td>0.3215</td>\n",
       "      <td>0.06637</td>\n",
       "      <td>155.00</td>\n",
       "      <td>23.690</td>\n",
       "      <td>0.11660</td>\n",
       "      <td>0.2572</td>\n",
       "      <td>38.25</td>\n",
       "      <td>...</td>\n",
       "      <td>0.09791</td>\n",
       "      <td>0.14400</td>\n",
       "      <td>0.05533</td>\n",
       "      <td>131.20</td>\n",
       "      <td>20.13</td>\n",
       "      <td>-18237.435671</td>\n",
       "      <td>0.09780</td>\n",
       "      <td>0.1752</td>\n",
       "      <td>28.25</td>\n",
       "      <td>-13508.957468</td>\n",
       "    </tr>\n",
       "    <tr>\n",
       "      <th>566</th>\n",
       "      <td>1124.0</td>\n",
       "      <td>0.30940</td>\n",
       "      <td>0.1418</td>\n",
       "      <td>0.3403</td>\n",
       "      <td>0.07820</td>\n",
       "      <td>126.70</td>\n",
       "      <td>18.980</td>\n",
       "      <td>0.11390</td>\n",
       "      <td>0.2218</td>\n",
       "      <td>34.12</td>\n",
       "      <td>...</td>\n",
       "      <td>0.05302</td>\n",
       "      <td>0.09251</td>\n",
       "      <td>0.05648</td>\n",
       "      <td>108.30</td>\n",
       "      <td>16.60</td>\n",
       "      <td>11834.819434</td>\n",
       "      <td>0.08455</td>\n",
       "      <td>0.1590</td>\n",
       "      <td>28.08</td>\n",
       "      <td>19624.012976</td>\n",
       "    </tr>\n",
       "    <tr>\n",
       "      <th>567</th>\n",
       "      <td>1821.0</td>\n",
       "      <td>0.86810</td>\n",
       "      <td>0.2650</td>\n",
       "      <td>0.9387</td>\n",
       "      <td>0.12400</td>\n",
       "      <td>184.60</td>\n",
       "      <td>25.740</td>\n",
       "      <td>0.16500</td>\n",
       "      <td>0.4087</td>\n",
       "      <td>39.42</td>\n",
       "      <td>...</td>\n",
       "      <td>0.15200</td>\n",
       "      <td>0.35140</td>\n",
       "      <td>0.07016</td>\n",
       "      <td>140.10</td>\n",
       "      <td>20.60</td>\n",
       "      <td>-18588.465764</td>\n",
       "      <td>0.11780</td>\n",
       "      <td>0.2397</td>\n",
       "      <td>29.33</td>\n",
       "      <td>-5779.482947</td>\n",
       "    </tr>\n",
       "    <tr>\n",
       "      <th>568</th>\n",
       "      <td>268.6</td>\n",
       "      <td>0.06444</td>\n",
       "      <td>0.0000</td>\n",
       "      <td>0.0000</td>\n",
       "      <td>0.07039</td>\n",
       "      <td>59.16</td>\n",
       "      <td>9.456</td>\n",
       "      <td>0.08996</td>\n",
       "      <td>0.2871</td>\n",
       "      <td>30.37</td>\n",
       "      <td>...</td>\n",
       "      <td>0.00000</td>\n",
       "      <td>0.00000</td>\n",
       "      <td>0.05884</td>\n",
       "      <td>47.92</td>\n",
       "      <td>7.76</td>\n",
       "      <td>10376.628600</td>\n",
       "      <td>0.05263</td>\n",
       "      <td>0.1587</td>\n",
       "      <td>24.54</td>\n",
       "      <td>-14473.993967</td>\n",
       "    </tr>\n",
       "  </tbody>\n",
       "</table>\n",
       "<p>569 rows × 32 columns</p>\n",
       "</div>"
      ],
      "text/plain": [
       "     LARGE_area  LARGE_compactness  LARGE_concave_points  LARGE_concavity  \\\n",
       "0        2019.0            0.66560                0.2654           0.7119   \n",
       "1        1956.0            0.18660                0.1860           0.2416   \n",
       "2        1709.0            0.42450                0.2430           0.4504   \n",
       "3         567.7            0.86630                0.2575           0.6869   \n",
       "4        1575.0            0.20500                0.1625           0.4000   \n",
       "..          ...                ...                   ...              ...   \n",
       "564      2027.0            0.21130                0.2216           0.4107   \n",
       "565      1731.0            0.19220                0.1628           0.3215   \n",
       "566      1124.0            0.30940                0.1418           0.3403   \n",
       "567      1821.0            0.86810                0.2650           0.9387   \n",
       "568       268.6            0.06444                0.0000           0.0000   \n",
       "\n",
       "     LARGE_fractal_dimension  LARGE_perimeter  LARGE_radius  LARGE_smoothness  \\\n",
       "0                    0.11890           184.60        25.380           0.16220   \n",
       "1                    0.08902           158.80        24.990           0.12380   \n",
       "2                    0.08758           152.50        23.570           0.14440   \n",
       "3                    0.17300            98.87        14.910           0.20980   \n",
       "4                    0.07678           152.20        22.540           0.13740   \n",
       "..                       ...              ...           ...               ...   \n",
       "564                  0.07115           166.10        25.450           0.14100   \n",
       "565                  0.06637           155.00        23.690           0.11660   \n",
       "566                  0.07820           126.70        18.980           0.11390   \n",
       "567                  0.12400           184.60        25.740           0.16500   \n",
       "568                  0.07039            59.16         9.456           0.08996   \n",
       "\n",
       "     LARGE_symmetry  LARGE_texture  ...  concave_points  concavity  \\\n",
       "0            0.4601          17.33  ...         0.14710    0.30010   \n",
       "1            0.2750          23.41  ...         0.07017    0.08690   \n",
       "2            0.3613          25.53  ...         0.12790    0.19740   \n",
       "3            0.6638          26.50  ...         0.10520    0.24140   \n",
       "4            0.2364          16.67  ...         0.10430    0.19800   \n",
       "..              ...            ...  ...             ...        ...   \n",
       "564          0.2060          26.40  ...         0.13890    0.24390   \n",
       "565          0.2572          38.25  ...         0.09791    0.14400   \n",
       "566          0.2218          34.12  ...         0.05302    0.09251   \n",
       "567          0.4087          39.42  ...         0.15200    0.35140   \n",
       "568          0.2871          30.37  ...         0.00000    0.00000   \n",
       "\n",
       "     fractal_dimension  perimeter  radius   alpha_scale  smoothness  symmetry  \\\n",
       "0              0.07871     122.80   17.99   5533.419816     0.11840    0.2419   \n",
       "1              0.05667     132.90   20.57    456.771688     0.08474    0.1812   \n",
       "2              0.05999     130.00   19.69   3019.115378     0.10960    0.2069   \n",
       "3              0.09744      77.58   11.42  11923.601650     0.14250    0.2597   \n",
       "4              0.05883     135.10   20.29   5340.182994     0.10030    0.1809   \n",
       "..                 ...        ...     ...           ...         ...       ...   \n",
       "564            0.05623     142.00   21.56  -3444.296744     0.11100    0.1726   \n",
       "565            0.05533     131.20   20.13 -18237.435671     0.09780    0.1752   \n",
       "566            0.05648     108.30   16.60  11834.819434     0.08455    0.1590   \n",
       "567            0.07016     140.10   20.60 -18588.465764     0.11780    0.2397   \n",
       "568            0.05884      47.92    7.76  10376.628600     0.05263    0.1587   \n",
       "\n",
       "     texture    beta_scale  \n",
       "0      10.38 -16038.934558  \n",
       "1      17.77   3213.443571  \n",
       "2      21.25  -1102.110142  \n",
       "3      20.38   -789.415600  \n",
       "4      14.34  12086.452028  \n",
       "..       ...           ...  \n",
       "564    22.39   2783.246020  \n",
       "565    28.25 -13508.957468  \n",
       "566    28.08  19624.012976  \n",
       "567    29.33  -5779.482947  \n",
       "568    24.54 -14473.993967  \n",
       "\n",
       "[569 rows x 32 columns]"
      ]
     },
     "metadata": {},
     "output_type": "display_data"
    },
    {
     "data": {
      "text/plain": [
       "212"
      ]
     },
     "metadata": {},
     "output_type": "display_data"
    },
    {
     "data": {
      "text/plain": [
       "357"
      ]
     },
     "metadata": {},
     "output_type": "display_data"
    }
   ],
   "source": [
    "X, y = df.iloc[:, 2:], df.iloc[:,1]\n",
    "\n",
    "display(X)\n",
    "display(np.count_nonzero(y == 'M'))\n",
    "display(np.count_nonzero(y == 'B'))"
   ]
  },
  {
   "cell_type": "markdown",
   "metadata": {},
   "source": [
    "# TASK 1"
   ]
  },
  {
   "cell_type": "code",
   "execution_count": 363,
   "metadata": {},
   "outputs": [],
   "source": [
    "from sklearn.neighbors import KNeighborsClassifier\n",
    "from sklearn.model_selection import train_test_split\n",
    "from sklearn.model_selection import cross_val_score\n",
    "from sklearn.model_selection import LeaveOneOut"
   ]
  },
  {
   "cell_type": "code",
   "execution_count": 364,
   "metadata": {},
   "outputs": [
    {
     "data": {
      "text/plain": [
       "0.6198830409356725"
      ]
     },
     "execution_count": 364,
     "metadata": {},
     "output_type": "execute_result"
    }
   ],
   "source": [
    "# X_np = X.to_numpy()\n",
    "# y_np = y.to_numpy()\n",
    "X_train, X_test, y_train, y_test = train_test_split(X.values,y.values, test_size=0.3, random_state=0)\n",
    "\n",
    "\n",
    "\n",
    "KN = KNeighborsClassifier(n_neighbors=1, metric=\"euclidean\").fit(X_train, y_train)\n",
    "\n",
    "KN.score(X_test, y_test)"
   ]
  },
  {
   "cell_type": "code",
   "execution_count": 365,
   "metadata": {},
   "outputs": [
    {
     "data": {
      "text/plain": [
       "0.5369281045751634"
      ]
     },
     "execution_count": 365,
     "metadata": {},
     "output_type": "execute_result"
    }
   ],
   "source": [
    "scores = cross_val_score(KN, X_test, y_test, cv=10)\n",
    "scores.mean()"
   ]
  },
  {
   "cell_type": "code",
   "execution_count": 366,
   "metadata": {},
   "outputs": [
    {
     "data": {
      "text/plain": [
       "0.5964912280701754"
      ]
     },
     "execution_count": 366,
     "metadata": {},
     "output_type": "execute_result"
    }
   ],
   "source": [
    "loo = LeaveOneOut()\n",
    "\n",
    "scores = cross_val_score(KN, X_test, y_test, cv=loo)\n",
    "scores.mean()"
   ]
  },
  {
   "cell_type": "code",
   "execution_count": 367,
   "metadata": {},
   "outputs": [
    {
     "data": {
      "text/plain": [
       "0.6019607843137256"
      ]
     },
     "execution_count": 367,
     "metadata": {},
     "output_type": "execute_result"
    }
   ],
   "source": [
    "KN = KNeighborsClassifier(n_neighbors=10, metric=\"euclidean\").fit(X_train, y_train)\n",
    "\n",
    "scores = cross_val_score(KN, X_test, y_test, cv=10)\n",
    "scores.mean()"
   ]
  },
  {
   "cell_type": "markdown",
   "metadata": {},
   "source": [
    "# TASK 2"
   ]
  },
  {
   "cell_type": "code",
   "execution_count": 368,
   "metadata": {},
   "outputs": [
    {
     "data": {
      "text/plain": [
       "0.9532163742690059"
      ]
     },
     "execution_count": 368,
     "metadata": {},
     "output_type": "execute_result"
    }
   ],
   "source": [
    "from sklearn.preprocessing import MinMaxScaler\n",
    "\n",
    "minmax = MinMaxScaler()\n",
    "minmax_scaled = minmax.fit_transform(X)\n",
    "\n",
    "X_train, X_test, y_train, y_test = train_test_split(minmax_scaled,y.values, test_size=0.3, random_state=0)\n",
    "\n",
    "KN = KNeighborsClassifier(n_neighbors=1, metric=\"euclidean\").fit(X_train, y_train)\n",
    "\n",
    "KN.score(X_test, y_test)"
   ]
  },
  {
   "cell_type": "markdown",
   "metadata": {},
   "source": [
    "# TASK 3"
   ]
  },
  {
   "cell_type": "code",
   "execution_count": 369,
   "metadata": {},
   "outputs": [
    {
     "name": "stdout",
     "output_type": "stream",
     "text": [
      "LARGE_compactness\n",
      "LARGE_concave_points\n",
      "LARGE_fractal_dimension\n",
      "LARGE_radius\n",
      "LARGE_smoothness\n",
      "SD_concave_points\n",
      "SD_fractal_dimension\n",
      "compactness\n",
      "fractal_dimension\n",
      "smoothness\n"
     ]
    },
    {
     "name": "stderr",
     "output_type": "stream",
     "text": [
      "/opt/homebrew/lib/python3.11/site-packages/sklearn/base.py:457: UserWarning: X has feature names, but SequentialFeatureSelector was fitted without feature names\n",
      "  warnings.warn(\n"
     ]
    }
   ],
   "source": [
    "from sklearn.feature_selection import SequentialFeatureSelector\n",
    "\n",
    "knn = KNeighborsClassifier(n_neighbors=1, metric=\"euclidean\")\n",
    "\n",
    "selector=SequentialFeatureSelector(knn, n_features_to_select=10 ,direction=\"forward\")\n",
    "selector.fit(X.values, y)\n",
    "list = selector.get_support()\n",
    "\n",
    "for i in range(len(list)):\n",
    "    if list[i]:\n",
    "        print(X.columns[i])\n",
    "\n",
    "X_t = selector.transform(X)"
   ]
  },
  {
   "cell_type": "code",
   "execution_count": 370,
   "metadata": {},
   "outputs": [
    {
     "data": {
      "text/plain": [
       "0.9124183006535947"
      ]
     },
     "metadata": {},
     "output_type": "display_data"
    }
   ],
   "source": [
    "X_train, X_test, y_train, y_test = train_test_split(X_t, y.values, test_size=0.3, random_state=0)\n",
    "\n",
    "# KN = KNeighborsClassifier(n_neighbors=1, metric=\"euclidean\").fit(X_train, y_train)\n",
    "\n",
    "scores = cross_val_score(knn, X_test, y_test, cv=10)\n",
    "display(scores.mean())"
   ]
  },
  {
   "cell_type": "markdown",
   "metadata": {},
   "source": [
    "# TASK 4"
   ]
  },
  {
   "cell_type": "code",
   "execution_count": 371,
   "metadata": {},
   "outputs": [
    {
     "data": {
      "text/plain": [
       "0.9352941176470588"
      ]
     },
     "metadata": {},
     "output_type": "display_data"
    }
   ],
   "source": [
    "knn = KNeighborsClassifier(n_neighbors=1, metric=\"euclidean\")\n",
    "\n",
    "selector = SequentialFeatureSelector(knn, n_features_to_select=10 ,direction=\"forward\")\n",
    "X_t = selector.fit_transform(minmax_scaled, y)\n",
    "\n",
    "\n",
    "X_train, X_test, y_train, y_test = train_test_split(X_t, y.values, test_size=0.3, random_state=0)\n",
    "\n",
    "scores = cross_val_score(knn, X_test, y_test, cv=10)\n",
    "display(scores.mean())"
   ]
  },
  {
   "cell_type": "markdown",
   "metadata": {},
   "source": [
    "# TASK 5"
   ]
  },
  {
   "cell_type": "code",
   "execution_count": 372,
   "metadata": {},
   "outputs": [
    {
     "data": {
      "text/plain": [
       "0.994216992306671"
      ]
     },
     "execution_count": 372,
     "metadata": {},
     "output_type": "execute_result"
    }
   ],
   "source": [
    "from sklearn.decomposition import PCA\n",
    "\n",
    "pca = PCA(n_components=20)\n",
    "X_pca = pca.fit_transform(minmax_scaled)\n",
    "pca.explained_variance_ratio_.sum()"
   ]
  },
  {
   "cell_type": "code",
   "execution_count": 373,
   "metadata": {},
   "outputs": [
    {
     "data": {
      "text/plain": [
       "0.9411764705882353"
      ]
     },
     "execution_count": 373,
     "metadata": {},
     "output_type": "execute_result"
    }
   ],
   "source": [
    "X_train, X_test, y_train, y_test = train_test_split(X_pca, y.values, test_size=0.3, random_state=0)\n",
    "\n",
    "knn = KNeighborsClassifier(n_neighbors=1, metric=\"euclidean\").fit(X_train, y_train)\n",
    "# pca.score(X_test, y_test)\n",
    "cross_val_score(knn, X_test, y_test, cv=10).mean()"
   ]
  },
  {
   "cell_type": "markdown",
   "metadata": {},
   "source": [
    "# TASK 6"
   ]
  },
  {
   "cell_type": "code",
   "execution_count": 374,
   "metadata": {},
   "outputs": [
    {
     "data": {
      "text/plain": [
       "{'n_neighbors': 1}"
      ]
     },
     "execution_count": 374,
     "metadata": {},
     "output_type": "execute_result"
    }
   ],
   "source": [
    "from sklearn.model_selection import GridSearchCV\n",
    "\n",
    "parameters = {'n_neighbors': [i for i in range(1,20)]}\n",
    "knn_model = KNeighborsClassifier()\n",
    "classifier = GridSearchCV(knn_model, parameters)\n",
    "classifier.fit(X_pca,y)\n",
    "\n",
    "best_idx = np.argmax(classifier.cv_results_['mean_test_score'])\n",
    "classifier.cv_results_['params'][best_idx]"
   ]
  },
  {
   "cell_type": "markdown",
   "metadata": {},
   "source": [
    "# TASK 7"
   ]
  },
  {
   "cell_type": "code",
   "execution_count": 376,
   "metadata": {},
   "outputs": [
    {
     "data": {
      "text/plain": [
       "'graph2.pdf'"
      ]
     },
     "execution_count": 376,
     "metadata": {},
     "output_type": "execute_result"
    }
   ],
   "source": [
    "from sklearn import tree\n",
    "import graphviz\n",
    "\n",
    "X_train, X_test, y_train, y_test = train_test_split(X.values,y.values, test_size=0.3, random_state=0)\n",
    "\n",
    "decision_tree = tree.DecisionTreeClassifier(min_samples_leaf=20)\n",
    "\n",
    "decision_tree.fit(X_train, y_train)\n",
    "\n",
    "data = tree.export_graphviz(decision_tree, out_file=None)\n",
    "graph = graphviz.Source(data)\n",
    "graph.render(\"graph2\")"
   ]
  },
  {
   "cell_type": "markdown",
   "metadata": {},
   "source": [
    "# TASK 8"
   ]
  },
  {
   "cell_type": "code",
   "execution_count": null,
   "metadata": {},
   "outputs": [],
   "source": []
  }
 ],
 "metadata": {
  "kernelspec": {
   "display_name": "Python 3",
   "language": "python",
   "name": "python3"
  },
  "language_info": {
   "codemirror_mode": {
    "name": "ipython",
    "version": 3
   },
   "file_extension": ".py",
   "mimetype": "text/x-python",
   "name": "python",
   "nbconvert_exporter": "python",
   "pygments_lexer": "ipython3",
   "version": "3.11.5"
  },
  "orig_nbformat": 4
 },
 "nbformat": 4,
 "nbformat_minor": 2
}
