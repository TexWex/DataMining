{
 "cells": [
  {
   "cell_type": "markdown",
   "metadata": {},
   "source": [
    "# TASK 0"
   ]
  },
  {
   "cell_type": "code",
   "execution_count": 18,
   "metadata": {},
   "outputs": [],
   "source": [
    "import pandas as pd\n",
    "import numpy as np\n",
    "import matplotlib.pyplot as plt"
   ]
  },
  {
   "cell_type": "code",
   "execution_count": 19,
   "metadata": {},
   "outputs": [
    {
     "data": {
      "text/html": [
       "<div>\n",
       "<style scoped>\n",
       "    .dataframe tbody tr th:only-of-type {\n",
       "        vertical-align: middle;\n",
       "    }\n",
       "\n",
       "    .dataframe tbody tr th {\n",
       "        vertical-align: top;\n",
       "    }\n",
       "\n",
       "    .dataframe thead th {\n",
       "        text-align: right;\n",
       "    }\n",
       "</style>\n",
       "<table border=\"1\" class=\"dataframe\">\n",
       "  <thead>\n",
       "    <tr style=\"text-align: right;\">\n",
       "      <th></th>\n",
       "      <th>id</th>\n",
       "      <th>diagnosis</th>\n",
       "      <th>LARGE_area</th>\n",
       "      <th>LARGE_compactness</th>\n",
       "      <th>LARGE_concave_points</th>\n",
       "      <th>LARGE_concavity</th>\n",
       "      <th>LARGE_fractal_dimension</th>\n",
       "      <th>LARGE_perimeter</th>\n",
       "      <th>LARGE_radius</th>\n",
       "      <th>LARGE_smoothness</th>\n",
       "      <th>...</th>\n",
       "      <th>concave_points</th>\n",
       "      <th>concavity</th>\n",
       "      <th>fractal_dimension</th>\n",
       "      <th>perimeter</th>\n",
       "      <th>radius</th>\n",
       "      <th>alpha_scale</th>\n",
       "      <th>smoothness</th>\n",
       "      <th>symmetry</th>\n",
       "      <th>texture</th>\n",
       "      <th>beta_scale</th>\n",
       "    </tr>\n",
       "  </thead>\n",
       "  <tbody>\n",
       "    <tr>\n",
       "      <th>0</th>\n",
       "      <td>842302.0</td>\n",
       "      <td>M</td>\n",
       "      <td>2019.0</td>\n",
       "      <td>0.6656</td>\n",
       "      <td>0.2654</td>\n",
       "      <td>0.7119</td>\n",
       "      <td>0.11890</td>\n",
       "      <td>184.60</td>\n",
       "      <td>25.38</td>\n",
       "      <td>0.1622</td>\n",
       "      <td>...</td>\n",
       "      <td>0.14710</td>\n",
       "      <td>0.3001</td>\n",
       "      <td>0.07871</td>\n",
       "      <td>122.80</td>\n",
       "      <td>17.99</td>\n",
       "      <td>5533.419816</td>\n",
       "      <td>0.11840</td>\n",
       "      <td>0.2419</td>\n",
       "      <td>10.38</td>\n",
       "      <td>-16038.934558</td>\n",
       "    </tr>\n",
       "    <tr>\n",
       "      <th>1</th>\n",
       "      <td>842517.0</td>\n",
       "      <td>M</td>\n",
       "      <td>1956.0</td>\n",
       "      <td>0.1866</td>\n",
       "      <td>0.1860</td>\n",
       "      <td>0.2416</td>\n",
       "      <td>0.08902</td>\n",
       "      <td>158.80</td>\n",
       "      <td>24.99</td>\n",
       "      <td>0.1238</td>\n",
       "      <td>...</td>\n",
       "      <td>0.07017</td>\n",
       "      <td>0.0869</td>\n",
       "      <td>0.05667</td>\n",
       "      <td>132.90</td>\n",
       "      <td>20.57</td>\n",
       "      <td>456.771688</td>\n",
       "      <td>0.08474</td>\n",
       "      <td>0.1812</td>\n",
       "      <td>17.77</td>\n",
       "      <td>3213.443571</td>\n",
       "    </tr>\n",
       "    <tr>\n",
       "      <th>2</th>\n",
       "      <td>84300903.0</td>\n",
       "      <td>M</td>\n",
       "      <td>1709.0</td>\n",
       "      <td>0.4245</td>\n",
       "      <td>0.2430</td>\n",
       "      <td>0.4504</td>\n",
       "      <td>0.08758</td>\n",
       "      <td>152.50</td>\n",
       "      <td>23.57</td>\n",
       "      <td>0.1444</td>\n",
       "      <td>...</td>\n",
       "      <td>0.12790</td>\n",
       "      <td>0.1974</td>\n",
       "      <td>0.05999</td>\n",
       "      <td>130.00</td>\n",
       "      <td>19.69</td>\n",
       "      <td>3019.115378</td>\n",
       "      <td>0.10960</td>\n",
       "      <td>0.2069</td>\n",
       "      <td>21.25</td>\n",
       "      <td>-1102.110142</td>\n",
       "    </tr>\n",
       "    <tr>\n",
       "      <th>3</th>\n",
       "      <td>84348301.0</td>\n",
       "      <td>M</td>\n",
       "      <td>567.7</td>\n",
       "      <td>0.8663</td>\n",
       "      <td>0.2575</td>\n",
       "      <td>0.6869</td>\n",
       "      <td>0.17300</td>\n",
       "      <td>98.87</td>\n",
       "      <td>14.91</td>\n",
       "      <td>0.2098</td>\n",
       "      <td>...</td>\n",
       "      <td>0.10520</td>\n",
       "      <td>0.2414</td>\n",
       "      <td>0.09744</td>\n",
       "      <td>77.58</td>\n",
       "      <td>11.42</td>\n",
       "      <td>11923.601650</td>\n",
       "      <td>0.14250</td>\n",
       "      <td>0.2597</td>\n",
       "      <td>20.38</td>\n",
       "      <td>-789.415600</td>\n",
       "    </tr>\n",
       "    <tr>\n",
       "      <th>4</th>\n",
       "      <td>84358402.0</td>\n",
       "      <td>M</td>\n",
       "      <td>1575.0</td>\n",
       "      <td>0.2050</td>\n",
       "      <td>0.1625</td>\n",
       "      <td>0.4000</td>\n",
       "      <td>0.07678</td>\n",
       "      <td>152.20</td>\n",
       "      <td>22.54</td>\n",
       "      <td>0.1374</td>\n",
       "      <td>...</td>\n",
       "      <td>0.10430</td>\n",
       "      <td>0.1980</td>\n",
       "      <td>0.05883</td>\n",
       "      <td>135.10</td>\n",
       "      <td>20.29</td>\n",
       "      <td>5340.182994</td>\n",
       "      <td>0.10030</td>\n",
       "      <td>0.1809</td>\n",
       "      <td>14.34</td>\n",
       "      <td>12086.452028</td>\n",
       "    </tr>\n",
       "  </tbody>\n",
       "</table>\n",
       "<p>5 rows × 34 columns</p>\n",
       "</div>"
      ],
      "text/plain": [
       "           id diagnosis  LARGE_area  LARGE_compactness  LARGE_concave_points  \\\n",
       "0    842302.0         M      2019.0             0.6656                0.2654   \n",
       "1    842517.0         M      1956.0             0.1866                0.1860   \n",
       "2  84300903.0         M      1709.0             0.4245                0.2430   \n",
       "3  84348301.0         M       567.7             0.8663                0.2575   \n",
       "4  84358402.0         M      1575.0             0.2050                0.1625   \n",
       "\n",
       "   LARGE_concavity  LARGE_fractal_dimension  LARGE_perimeter  LARGE_radius  \\\n",
       "0           0.7119                  0.11890           184.60         25.38   \n",
       "1           0.2416                  0.08902           158.80         24.99   \n",
       "2           0.4504                  0.08758           152.50         23.57   \n",
       "3           0.6869                  0.17300            98.87         14.91   \n",
       "4           0.4000                  0.07678           152.20         22.54   \n",
       "\n",
       "   LARGE_smoothness  ...  concave_points  concavity  fractal_dimension  \\\n",
       "0            0.1622  ...         0.14710     0.3001            0.07871   \n",
       "1            0.1238  ...         0.07017     0.0869            0.05667   \n",
       "2            0.1444  ...         0.12790     0.1974            0.05999   \n",
       "3            0.2098  ...         0.10520     0.2414            0.09744   \n",
       "4            0.1374  ...         0.10430     0.1980            0.05883   \n",
       "\n",
       "   perimeter  radius   alpha_scale  smoothness  symmetry  texture  \\\n",
       "0     122.80   17.99   5533.419816     0.11840    0.2419    10.38   \n",
       "1     132.90   20.57    456.771688     0.08474    0.1812    17.77   \n",
       "2     130.00   19.69   3019.115378     0.10960    0.2069    21.25   \n",
       "3      77.58   11.42  11923.601650     0.14250    0.2597    20.38   \n",
       "4     135.10   20.29   5340.182994     0.10030    0.1809    14.34   \n",
       "\n",
       "     beta_scale  \n",
       "0 -16038.934558  \n",
       "1   3213.443571  \n",
       "2  -1102.110142  \n",
       "3   -789.415600  \n",
       "4  12086.452028  \n",
       "\n",
       "[5 rows x 34 columns]"
      ]
     },
     "metadata": {},
     "output_type": "display_data"
    },
    {
     "data": {
      "text/plain": [
       "(569, 34)"
      ]
     },
     "metadata": {},
     "output_type": "display_data"
    }
   ],
   "source": [
    "df = pd.read_csv('cancer.csv', sep=';')\n",
    "display(df.head())\n",
    "display(df.shape)"
   ]
  },
  {
   "cell_type": "code",
   "execution_count": 20,
   "metadata": {},
   "outputs": [
    {
     "data": {
      "text/plain": [
       "0      M\n",
       "1      M\n",
       "2      M\n",
       "3      M\n",
       "4      M\n",
       "      ..\n",
       "564    M\n",
       "565    M\n",
       "566    M\n",
       "567    M\n",
       "568    B\n",
       "Name: diagnosis, Length: 569, dtype: object"
      ]
     },
     "metadata": {},
     "output_type": "display_data"
    },
    {
     "data": {
      "text/plain": [
       "212"
      ]
     },
     "metadata": {},
     "output_type": "display_data"
    },
    {
     "data": {
      "text/plain": [
       "357"
      ]
     },
     "metadata": {},
     "output_type": "display_data"
    }
   ],
   "source": [
    "X, y = df.iloc[:, 2:], df.iloc[:,1]\n",
    "\n",
    "display(y)\n",
    "display(np.count_nonzero(y == 'M'))\n",
    "display(np.count_nonzero(y == 'B'))"
   ]
  },
  {
   "cell_type": "markdown",
   "metadata": {},
   "source": [
    "# TASK 1"
   ]
  },
  {
   "cell_type": "code",
   "execution_count": 21,
   "metadata": {},
   "outputs": [],
   "source": [
    "from sklearn.neighbors import KNeighborsClassifier\n",
    "from sklearn.model_selection import train_test_split\n",
    "from sklearn.model_selection import cross_val_score\n",
    "from sklearn.model_selection import LeaveOneOut"
   ]
  },
  {
   "cell_type": "code",
   "execution_count": 22,
   "metadata": {},
   "outputs": [
    {
     "data": {
      "text/plain": [
       "0.6198830409356725"
      ]
     },
     "execution_count": 22,
     "metadata": {},
     "output_type": "execute_result"
    }
   ],
   "source": [
    "# X_np = X.to_numpy()\n",
    "# y_np = y.to_numpy()\n",
    "X_train, X_test, y_train, y_test = train_test_split(X.values,y.values, test_size=0.3, random_state=0)\n",
    "\n",
    "\n",
    "\n",
    "KN = KNeighborsClassifier(n_neighbors=1, metric=\"euclidean\").fit(X_train, y_train)\n",
    "\n",
    "KN.score(X_test, y_test)"
   ]
  },
  {
   "cell_type": "code",
   "execution_count": 23,
   "metadata": {},
   "outputs": [
    {
     "data": {
      "text/plain": [
       "0.6380325814536342"
      ]
     },
     "execution_count": 23,
     "metadata": {},
     "output_type": "execute_result"
    }
   ],
   "source": [
    "scores = cross_val_score(KN, X.values, y.values, cv=10)\n",
    "scores.mean()"
   ]
  },
  {
   "cell_type": "code",
   "execution_count": 34,
   "metadata": {},
   "outputs": [
    {
     "data": {
      "text/plain": [
       "0.6362038664323374"
      ]
     },
     "execution_count": 34,
     "metadata": {},
     "output_type": "execute_result"
    }
   ],
   "source": [
    "loo = LeaveOneOut()\n",
    "\n",
    "scores = cross_val_score(KN, X.values, y.values, cv=loo)\n",
    "scores.mean()"
   ]
  },
  {
   "cell_type": "code",
   "execution_count": 44,
   "metadata": {},
   "outputs": [
    {
     "data": {
      "text/plain": [
       "0.6255325814536341"
      ]
     },
     "execution_count": 44,
     "metadata": {},
     "output_type": "execute_result"
    }
   ],
   "source": [
    "KN = KNeighborsClassifier(n_neighbors=10, metric=\"euclidean\").fit(X_train, y_train)\n",
    "\n",
    "scores = cross_val_score(KN, X.values, y.values, cv=10)\n",
    "scores.mean()"
   ]
  },
  {
   "cell_type": "markdown",
   "metadata": {},
   "source": [
    "# TASK 2"
   ]
  },
  {
   "cell_type": "code",
   "execution_count": 45,
   "metadata": {},
   "outputs": [
    {
     "data": {
      "text/plain": [
       "0.9532163742690059"
      ]
     },
     "execution_count": 45,
     "metadata": {},
     "output_type": "execute_result"
    }
   ],
   "source": [
    "from sklearn.preprocessing import MinMaxScaler\n",
    "\n",
    "minmax = MinMaxScaler()\n",
    "minmax_scaled = minmax.fit_transform(X)\n",
    "\n",
    "X_train, X_test, y_train, y_test = train_test_split(minmax_scaled,y.values, test_size=0.3, random_state=0)\n",
    "\n",
    "KN = KNeighborsClassifier(n_neighbors=1, metric=\"euclidean\").fit(X_train, y_train)\n",
    "\n",
    "KN.score(X_test, y_test)"
   ]
  },
  {
   "cell_type": "markdown",
   "metadata": {},
   "source": [
    "# TASK 3"
   ]
  },
  {
   "cell_type": "code",
   "execution_count": 46,
   "metadata": {},
   "outputs": [
    {
     "name": "stdout",
     "output_type": "stream",
     "text": [
      "LARGE_compactness\n",
      "LARGE_concave_points\n",
      "LARGE_fractal_dimension\n",
      "LARGE_radius\n",
      "LARGE_smoothness\n",
      "SD_concave_points\n",
      "SD_fractal_dimension\n",
      "compactness\n",
      "fractal_dimension\n",
      "smoothness\n"
     ]
    },
    {
     "name": "stderr",
     "output_type": "stream",
     "text": [
      "/opt/homebrew/lib/python3.11/site-packages/sklearn/base.py:457: UserWarning: X has feature names, but SequentialFeatureSelector was fitted without feature names\n",
      "  warnings.warn(\n"
     ]
    }
   ],
   "source": [
    "from sklearn.feature_selection import SequentialFeatureSelector\n",
    "\n",
    "knn = KNeighborsClassifier(n_neighbors=1, metric=\"euclidean\")\n",
    "\n",
    "selector=SequentialFeatureSelector(knn, n_features_to_select=10 ,direction=\"forward\")\n",
    "selector.fit(X.values, y)\n",
    "list = selector.get_support()\n",
    "\n",
    "for i in range(len(list)):\n",
    "    if list[i]:\n",
    "        print(X.columns[i])\n",
    "\n",
    "X_t = selector.transform(X)"
   ]
  },
  {
   "cell_type": "code",
   "execution_count": 47,
   "metadata": {},
   "outputs": [
    {
     "data": {
      "text/plain": [
       "0.9124183006535947"
      ]
     },
     "metadata": {},
     "output_type": "display_data"
    }
   ],
   "source": [
    "X_train, X_test, y_train, y_test = train_test_split(X_t, y.values, test_size=0.3, random_state=0)\n",
    "\n",
    "# KN = KNeighborsClassifier(n_neighbors=1, metric=\"euclidean\").fit(X_train, y_train)\n",
    "\n",
    "scores = cross_val_score(knn, X_test, y_test, cv=10)\n",
    "display(scores.mean())"
   ]
  },
  {
   "cell_type": "markdown",
   "metadata": {},
   "source": [
    "# TASK 4"
   ]
  },
  {
   "cell_type": "code",
   "execution_count": 48,
   "metadata": {},
   "outputs": [],
   "source": [
    "knn = KNeighborsClassifier(n_neighbors=1, metric=\"euclidean\")\n",
    "\n",
    "selector = SequentialFeatureSelector(knn, n_features_to_select=10 ,direction=\"forward\")\n",
    "X_t = selector.fit_transform(minmax_scaled, y)\n",
    "\n",
    "\n",
    "X_train, X_test, y_train, y_test = train_test_split(X_t, y.values, test_size=0.3, random_state=0)\n",
    "\n",
    "scores = cross_val_score(knn, X_test, y_test, cv=10)\n",
    "display(scores.mean())"
   ]
  },
  {
   "cell_type": "markdown",
   "metadata": {},
   "source": [
    "# TASK 5"
   ]
  },
  {
   "cell_type": "code",
   "execution_count": null,
   "metadata": {},
   "outputs": [
    {
     "data": {
      "text/plain": [
       "0.9942169923066715"
      ]
     },
     "execution_count": 40,
     "metadata": {},
     "output_type": "execute_result"
    }
   ],
   "source": [
    "from sklearn.decomposition import PCA\n",
    "\n",
    "pca = PCA(n_components=20)\n",
    "X_pca = pca.fit_transform(minmax_scaled)\n",
    "pca.explained_variance_ratio_.sum()"
   ]
  },
  {
   "cell_type": "code",
   "execution_count": null,
   "metadata": {},
   "outputs": [
    {
     "data": {
      "text/plain": [
       "0.9411764705882353"
      ]
     },
     "execution_count": 41,
     "metadata": {},
     "output_type": "execute_result"
    }
   ],
   "source": [
    "X_train, X_test, y_train, y_test = train_test_split(X_pca, y.values, test_size=0.3, random_state=0)\n",
    "\n",
    "knn = KNeighborsClassifier(n_neighbors=1, metric=\"euclidean\").fit(X_train, y_train)\n",
    "# pca.score(X_test, y_test)\n",
    "cross_val_score(knn, X_test, y_test, cv=10).mean()"
   ]
  },
  {
   "cell_type": "markdown",
   "metadata": {},
   "source": [
    "# TASK 6"
   ]
  },
  {
   "cell_type": "code",
   "execution_count": null,
   "metadata": {},
   "outputs": [
    {
     "data": {
      "text/plain": [
       "{'n_neighbors': 1}"
      ]
     },
     "execution_count": 42,
     "metadata": {},
     "output_type": "execute_result"
    }
   ],
   "source": [
    "from sklearn.model_selection import GridSearchCV\n",
    "\n",
    "parameters = {'n_neighbors': [i for i in range(1,20)]}\n",
    "knn_model = KNeighborsClassifier()\n",
    "classifier = GridSearchCV(knn_model, parameters)\n",
    "classifier.fit(X_pca,y)\n",
    "\n",
    "best_idx = np.argmax(classifier.cv_results_['mean_test_score'])\n",
    "classifier.cv_results_['params'][best_idx]"
   ]
  },
  {
   "cell_type": "markdown",
   "metadata": {},
   "source": [
    "# TASK 7"
   ]
  },
  {
   "cell_type": "code",
   "execution_count": null,
   "metadata": {},
   "outputs": [
    {
     "data": {
      "text/plain": [
       "'graph2.pdf'"
      ]
     },
     "execution_count": 43,
     "metadata": {},
     "output_type": "execute_result"
    }
   ],
   "source": [
    "from sklearn import tree\n",
    "import graphviz\n",
    "\n",
    "X_train, X_test, y_train, y_test = train_test_split(X.values,y.values, test_size=0.3, random_state=0)\n",
    "\n",
    "decision_tree = tree.DecisionTreeClassifier(min_samples_leaf=20)\n",
    "\n",
    "decision_tree.fit(X_train, y_train)\n",
    "\n",
    "data = tree.export_graphviz(decision_tree, out_file=None)\n",
    "graph = graphviz.Source(data)\n",
    "graph.render(\"graph2\")"
   ]
  },
  {
   "cell_type": "markdown",
   "metadata": {},
   "source": [
    "# TASK 8"
   ]
  },
  {
   "cell_type": "code",
   "execution_count": null,
   "metadata": {},
   "outputs": [],
   "source": []
  }
 ],
 "metadata": {
  "kernelspec": {
   "display_name": "Python 3",
   "language": "python",
   "name": "python3"
  },
  "language_info": {
   "codemirror_mode": {
    "name": "ipython",
    "version": 3
   },
   "file_extension": ".py",
   "mimetype": "text/x-python",
   "name": "python",
   "nbconvert_exporter": "python",
   "pygments_lexer": "ipython3",
   "version": "3.11.5"
  },
  "orig_nbformat": 4
 },
 "nbformat": 4,
 "nbformat_minor": 2
}
